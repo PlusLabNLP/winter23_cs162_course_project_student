{
 "cells": [
  {
   "cell_type": "code",
   "execution_count": 2,
   "metadata": {},
   "outputs": [],
   "source": [
    "import numpy as np \n",
    "a =[0, 0, 1, 1, 2, 2, 3, 3]\n",
    "preds = np.asarray([0, 0, 1, 0, 0, 1, 1, 1])\n",
    "labels = np.asarray([1, 0, 1, 1, 0, 1, 1, 1])\n",
    "for i in a :\n",
    "    preds[i]"
   ]
  },
  {
   "cell_type": "code",
   "execution_count": 28,
   "metadata": {},
   "outputs": [
    {
     "data": {
      "text/plain": [
       "4"
      ]
     },
     "execution_count": 28,
     "metadata": {},
     "output_type": "execute_result"
    }
   ],
   "source": [
    "int(len(preds)/2)"
   ]
  },
  {
   "cell_type": "code",
   "execution_count": 29,
   "metadata": {},
   "outputs": [],
   "source": [
    "pair_num = int(len(preds)/2)\n",
    "for i in range(pair_num) :\n",
    "    [preds[2*i],preds[2*i+1]]"
   ]
  },
  {
   "cell_type": "code",
   "execution_count": 64,
   "metadata": {},
   "outputs": [
    {
     "data": {
      "text/plain": [
       "array([[False,  True],\n",
       "       [ True, False],\n",
       "       [ True,  True],\n",
       "       [ True,  True]])"
      ]
     },
     "execution_count": 64,
     "metadata": {},
     "output_type": "execute_result"
    }
   ],
   "source": [
    "guids = [0, 0, 1, 1, 2, 2, 3, 3]\n",
    "preds = np.asarray([0, 0, 1, bash scripts/train_dummy.sh 0, 0, 1, 1, 1])\n",
    "labels = np.asarray([1, 0, 1, 1, 0, 1, 1, 1])\n",
    "num_pair= int(len(preds)/2)\n",
    "preds = np.array([[preds[2*i],preds[2*i+1]] for i in range(num_pair)])\n",
    "labels = np.array([[labels[2*i],labels [2*i+1]] for i in range(num_pair)])\n",
    "preds==labels"
   ]
  },
  {
   "cell_type": "code",
   "execution_count": 3,
   "metadata": {},
   "outputs": [
    {
     "name": "stdout",
     "output_type": "stream",
     "text": [
      "0.5\n"
     ]
    }
   ],
   "source": [
    "guids = [0, 0, 1, 1, 2, 2, 3, 3]\n",
    "preds = np.asarray([0, 0, 1, 0, 0, 1, 1, 1])\n",
    "labels = np.asarray([1, 0, 1, 1, 0, 1, 1, 1])\n",
    "\n",
    "preds= preds.reshape(-1,2)\n",
    "labels= labels.reshape(-1,2)\n",
    "num_pair= int(len(guids)/2)\n",
    "acc = ((preds == labels).sum(axis=1))\n",
    "acc = (acc-1).sum()/num_pair\n",
    "print(acc)"
   ]
  },
  {
   "cell_type": "code",
   "execution_count": 4,
   "metadata": {},
   "outputs": [
    {
     "data": {
      "text/plain": [
       "array([0, 1, 2, 3, 4, 5, 6, 7])"
      ]
     },
     "execution_count": 4,
     "metadata": {},
     "output_type": "execute_result"
    }
   ],
   "source": []
  }
 ],
 "metadata": {
  "kernelspec": {
   "display_name": "Python 3.9.6 64-bit",
   "language": "python",
   "name": "python3"
  },
  "language_info": {
   "codemirror_mode": {
    "name": "ipython",
    "version": 3
   },
   "file_extension": ".py",
   "mimetype": "text/x-python",
   "name": "python",
   "nbconvert_exporter": "python",
   "pygments_lexer": "ipython3",
   "version": "3.9.6"
  },
  "orig_nbformat": 4,
  "vscode": {
   "interpreter": {
    "hash": "31f2aee4e71d21fbe5cf8b01ff0e069b9275f58929596ceb00d14d90e3e16cd6"
   }
  }
 },
 "nbformat": 4,
 "nbformat_minor": 2
}
